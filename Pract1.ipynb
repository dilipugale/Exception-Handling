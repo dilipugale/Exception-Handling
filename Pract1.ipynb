{
 "cells": [
  {
   "cell_type": "code",
   "execution_count": 4,
   "id": "6903442e-3e23-4b5b-b1e8-3ed017df3cf0",
   "metadata": {},
   "outputs": [
    {
     "name": "stdout",
     "output_type": "stream",
     "text": [
      "[1 2 3 4 5]\n"
     ]
    }
   ],
   "source": [
    "import numpy as np\n",
    "#1D Array\n",
    "arr1 = np.array([1,2,3,4,5])\n",
    "print(arr1)\n"
   ]
  },
  {
   "cell_type": "code",
   "execution_count": 6,
   "id": "927b6501-365a-48d7-9b99-933aeecb3d07",
   "metadata": {},
   "outputs": [
    {
     "name": "stdout",
     "output_type": "stream",
     "text": [
      "[[1 2 3]\n",
      " [4 5 6]]\n"
     ]
    }
   ],
   "source": [
    "#2D Array\n",
    "arr2 = np.array([[1,2,3],[4,5,6]])\n",
    "print(arr2)\n"
   ]
  },
  {
   "cell_type": "code",
   "execution_count": 8,
   "id": "9ba67d23-c668-4d40-8668-91c99e45873f",
   "metadata": {},
   "outputs": [
    {
     "name": "stdout",
     "output_type": "stream",
     "text": [
      "[[0. 0. 0.]\n",
      " [0. 0. 0.]\n",
      " [0. 0. 0.]]\n"
     ]
    }
   ],
   "source": [
    "#Array of zeros/Ones\n",
    "zeros_arr = np.zeros((3,3))\n",
    "print(zeros_arr)"
   ]
  },
  {
   "cell_type": "code",
   "execution_count": 10,
   "id": "9f618160-b56f-4793-b9f3-f144e7110938",
   "metadata": {},
   "outputs": [
    {
     "name": "stdout",
     "output_type": "stream",
     "text": [
      "[[1. 1. 1. 1.]\n",
      " [1. 1. 1. 1.]]\n"
     ]
    }
   ],
   "source": [
    "#Ones\n",
    "ones_arr = np.ones((2,4))\n",
    "print(ones_arr)"
   ]
  },
  {
   "cell_type": "code",
   "execution_count": 12,
   "id": "be8f676d-818f-47b9-9a05-0320204db9d9",
   "metadata": {},
   "outputs": [
    {
     "name": "stdout",
     "output_type": "stream",
     "text": [
      "[0 2 4 6 8]\n"
     ]
    }
   ],
   "source": [
    "#Array with range of Numbers\n",
    "#using arange :\n",
    "range_arr = np.arange(0,10,2)\n",
    "print(range_arr)"
   ]
  },
  {
   "cell_type": "code",
   "execution_count": 14,
   "id": "272ac895-67b4-4bd8-ac03-640c4469a6a0",
   "metadata": {},
   "outputs": [
    {
     "name": "stdout",
     "output_type": "stream",
     "text": [
      "[ 0.   2.5  5.   7.5 10. ]\n"
     ]
    }
   ],
   "source": [
    "#Using linspace(Generates numbers evenly spaced) :\n",
    "linspace_arr = np.linspace(0,10,5)\n",
    "print(linspace_arr)"
   ]
  },
  {
   "cell_type": "code",
   "execution_count": 16,
   "id": "de1c2c21-3efd-4845-bf01-d7c7fee8ee73",
   "metadata": {},
   "outputs": [
    {
     "name": "stdout",
     "output_type": "stream",
     "text": [
      "[[ 0  1  2  3]\n",
      " [ 4  5  6  7]\n",
      " [ 8  9 10 11]]\n"
     ]
    }
   ],
   "source": [
    "#Reshape an Array\n",
    "reshaped_arr = np.arange(12).reshape(3,4)\n",
    "print(reshaped_arr)"
   ]
  },
  {
   "cell_type": "code",
   "execution_count": 18,
   "id": "8a15a014-b7b2-4a2d-b35b-f1319be96d40",
   "metadata": {},
   "outputs": [
    {
     "name": "stdout",
     "output_type": "stream",
     "text": [
      "[11 22 33]\n"
     ]
    }
   ],
   "source": [
    "#Basic Arithmetic Operations\n",
    "#Addition:\n",
    "arr_a = np.array([10,20,30])\n",
    "arr_b = np.array([1,2,3])\n",
    "add_arr = arr_a + arr_b\n",
    "print(add_arr)"
   ]
  },
  {
   "cell_type": "code",
   "execution_count": 20,
   "id": "0407ae1e-9cf0-4ccd-8c3d-d9e8e7b2d6eb",
   "metadata": {},
   "outputs": [
    {
     "name": "stdout",
     "output_type": "stream",
     "text": [
      "[10 40 90]\n"
     ]
    }
   ],
   "source": [
    "#Multiplication:\n",
    "mult_arr = arr_a*arr_b\n",
    "print(mult_arr)"
   ]
  },
  {
   "cell_type": "code",
   "execution_count": 22,
   "id": "db98a002-e99e-43cf-bf6c-8d4a36550c04",
   "metadata": {},
   "outputs": [
    {
     "name": "stdout",
     "output_type": "stream",
     "text": [
      "[10. 10. 10.]\n"
     ]
    }
   ],
   "source": [
    "#Division :\n",
    "div_arr = arr_a/arr_b\n",
    "print(div_arr)"
   ]
  },
  {
   "cell_type": "code",
   "execution_count": 24,
   "id": "ccdc879c-8aa5-41fa-a81d-ccb4a6ea1432",
   "metadata": {},
   "outputs": [
    {
     "name": "stdout",
     "output_type": "stream",
     "text": [
      "3.0\n"
     ]
    }
   ],
   "source": [
    "#Array Statistics \n",
    "#Mean:\n",
    "mean_val = np.mean(arr1)\n",
    "print(mean_val)"
   ]
  },
  {
   "cell_type": "code",
   "execution_count": 28,
   "id": "c268db1e-2845-499d-bd2c-843b4f6500c0",
   "metadata": {},
   "outputs": [
    {
     "name": "stdout",
     "output_type": "stream",
     "text": [
      "15\n"
     ]
    }
   ],
   "source": [
    "#Sum:\n",
    "sum_val = np.sum(arr1)\n",
    "print(sum_val)"
   ]
  },
  {
   "cell_type": "code",
   "execution_count": 30,
   "id": "e153b8f4-1ee4-4eec-8c1e-e54fdf38d083",
   "metadata": {},
   "outputs": [
    {
     "name": "stdout",
     "output_type": "stream",
     "text": [
      "1.4142135623730951\n"
     ]
    }
   ],
   "source": [
    "#Standard Deviation:\n",
    "std_val = np.std(arr1)\n",
    "print(std_val)"
   ]
  },
  {
   "cell_type": "code",
   "execution_count": 32,
   "id": "8d47a856-5408-4b31-8ad2-fc8dcd3d7078",
   "metadata": {},
   "outputs": [
    {
     "name": "stdout",
     "output_type": "stream",
     "text": [
      "1 5\n"
     ]
    }
   ],
   "source": [
    "#Min/Max:\n",
    "min_val = np.min(arr1)\n",
    "max_val = np.max(arr1)\n",
    "print(min_val,max_val)"
   ]
  },
  {
   "cell_type": "code",
   "execution_count": 36,
   "id": "37a6033b-7b4f-43a6-8301-7245847b2a9d",
   "metadata": {},
   "outputs": [
    {
     "name": "stdout",
     "output_type": "stream",
     "text": [
      "3\n"
     ]
    }
   ],
   "source": [
    "#Indexing & Slicing\n",
    "#Single Element:\n",
    "element = arr1[2] #array = [1,2,3,4,5]\n",
    "print(element)"
   ]
  },
  {
   "cell_type": "code",
   "execution_count": 38,
   "id": "26af2de8-c04d-43a1-9b17-575ca6306ce4",
   "metadata": {},
   "outputs": [
    {
     "name": "stdout",
     "output_type": "stream",
     "text": [
      "[2 3 4]\n"
     ]
    }
   ],
   "source": [
    "#Slice\n",
    "slice_arr = arr1[1:4]\n",
    "print(slice_arr)"
   ]
  },
  {
   "cell_type": "code",
   "execution_count": 40,
   "id": "090d63aa-b414-41a8-bf54-e55a573f2a5e",
   "metadata": {},
   "outputs": [
    {
     "name": "stdout",
     "output_type": "stream",
     "text": [
      "6\n"
     ]
    }
   ],
   "source": [
    "#2D Array Indexing:\n",
    "element_2d = arr2[1,2]\n",
    "print(element_2d)"
   ]
  },
  {
   "cell_type": "code",
   "execution_count": 42,
   "id": "2d032126-63ae-4aa5-9877-e25c880a061b",
   "metadata": {},
   "outputs": [
    {
     "name": "stdout",
     "output_type": "stream",
     "text": [
      "[[19 22]\n",
      " [43 50]]\n"
     ]
    }
   ],
   "source": [
    "#Matrix Multiplication:\n",
    "matrix1 = np.array([[1,2],[3,4]])\n",
    "matrix2 = np.array([[5,6],[7,8]])\n",
    "matrix_mult = np.dot(matrix1,matrix2)\n",
    "print(matrix_mult)"
   ]
  },
  {
   "cell_type": "code",
   "execution_count": 44,
   "id": "7fe83d7d-cf7b-4d72-a763-db7efd03f2c3",
   "metadata": {},
   "outputs": [
    {
     "name": "stdout",
     "output_type": "stream",
     "text": [
      "[[1 3]\n",
      " [2 4]]\n"
     ]
    }
   ],
   "source": [
    "#Transpose of a matrix\n",
    "transpose_matrix = np.transpose(matrix1)\n",
    "print(transpose_matrix)"
   ]
  },
  {
   "cell_type": "code",
   "execution_count": 48,
   "id": "5550e604-eb74-46c3-ae78-1d3f872d9d5a",
   "metadata": {},
   "outputs": [
    {
     "name": "stdout",
     "output_type": "stream",
     "text": [
      "[[2 8 3]\n",
      " [7 1 3]\n",
      " [1 1 6]]\n"
     ]
    }
   ],
   "source": [
    "#Random numbers:\n",
    "#Random integer:\n",
    "rand_int = np.random.randint(1,10,size=(3,3))\n",
    "print(rand_int)"
   ]
  },
  {
   "cell_type": "code",
   "execution_count": 50,
   "id": "75f3c32e-2de0-44ae-9ab5-61fa4423b3a8",
   "metadata": {},
   "outputs": [
    {
     "name": "stdout",
     "output_type": "stream",
     "text": [
      "[[0.20380739 0.38871919 0.76125554]\n",
      " [0.03707215 0.18898077 0.52511074]]\n"
     ]
    }
   ],
   "source": [
    "#Random Float:\n",
    "rand_float = np.random.rand(2,3)\n",
    "print(rand_float)"
   ]
  },
  {
   "cell_type": "code",
   "execution_count": 58,
   "id": "8375b50b-8960-441b-82b9-62cd83f44b21",
   "metadata": {},
   "outputs": [
    {
     "name": "stdout",
     "output_type": "stream",
     "text": [
      "[10 20 30  1  2  3]\n"
     ]
    }
   ],
   "source": [
    "#Stacking Arrays :\n",
    "#Horinzontal Stack:\n",
    "h_stack = np.hstack((arr_a,arr_b)) #here, arr_a= [10,20,30], arr_b = [1,2,3]\n",
    "print(h_stack)"
   ]
  },
  {
   "cell_type": "code",
   "execution_count": 62,
   "id": "24fece30-035f-4a18-b45f-1a75352226f6",
   "metadata": {},
   "outputs": [
    {
     "name": "stdout",
     "output_type": "stream",
     "text": [
      "[[10 20 30]\n",
      " [ 1  2  3]]\n"
     ]
    }
   ],
   "source": [
    "#Vertical Stack:\n",
    "v_stack = np.vstack((arr_a,arr_b)) #here, arr_a= [10,20,30], arr_b = [1,2,3]\n",
    "print(v_stack)"
   ]
  },
  {
   "cell_type": "code",
   "execution_count": 64,
   "id": "e04a28c1-5c85-4fda-960d-1f86e269fc7f",
   "metadata": {},
   "outputs": [
    {
     "name": "stdout",
     "output_type": "stream",
     "text": [
      "[False  True  True]\n"
     ]
    }
   ],
   "source": [
    "#Array Conditionals\n",
    "#Condition:\n",
    "condition_arr = arr_a > 15\n",
    "print(condition_arr)"
   ]
  },
  {
   "cell_type": "code",
   "execution_count": 66,
   "id": "821cb41a-4f23-49de-8f24-95ba7b10b096",
   "metadata": {},
   "outputs": [
    {
     "name": "stdout",
     "output_type": "stream",
     "text": [
      "[20 30]\n"
     ]
    }
   ],
   "source": [
    "#Filter based on Condition:\n",
    "filtered_arr = arr_a[arr_a > 15]\n",
    "print(filtered_arr)"
   ]
  },
  {
   "cell_type": "code",
   "execution_count": null,
   "id": "86f494c4-bb37-44e9-91af-69bb16f5d573",
   "metadata": {},
   "outputs": [],
   "source": []
  }
 ],
 "metadata": {
  "kernelspec": {
   "display_name": "Python 3 (ipykernel)",
   "language": "python",
   "name": "python3"
  },
  "language_info": {
   "codemirror_mode": {
    "name": "ipython",
    "version": 3
   },
   "file_extension": ".py",
   "mimetype": "text/x-python",
   "name": "python",
   "nbconvert_exporter": "python",
   "pygments_lexer": "ipython3",
   "version": "3.12.4"
  }
 },
 "nbformat": 4,
 "nbformat_minor": 5
}
