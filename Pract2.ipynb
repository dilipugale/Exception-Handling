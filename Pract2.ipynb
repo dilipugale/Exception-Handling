{
 "cells": [
  {
   "cell_type": "code",
   "execution_count": 1,
   "id": "19d022d4-5187-44cc-b84f-e4e345239004",
   "metadata": {},
   "outputs": [
    {
     "name": "stdout",
     "output_type": "stream",
     "text": [
      "Number Array: [1 2 3 4 5]\n"
     ]
    }
   ],
   "source": [
    "import numpy as np\n",
    "\n",
    "# Input list\n",
    "my_list = [1, 2, 3, 4, 5]\n",
    "\n",
    "# Convert list to numpy array\n",
    "num_array = np.array(my_list)\n",
    "\n",
    "# Display the array\n",
    "print(\"Number Array:\", num_array)"
   ]
  },
  {
   "cell_type": "code",
   "execution_count": 3,
   "id": "de9d9edf-287c-4871-a431-a5de4c8c723c",
   "metadata": {},
   "outputs": [
    {
     "name": "stdout",
     "output_type": "stream",
     "text": [
      "Number Array: [1 2 3 4 5]\n",
      "First Index: 1\n",
      "Last Index: 5\n",
      "Array After Multiplication: [ 2  4  6  8 10]\n"
     ]
    }
   ],
   "source": [
    "\n",
    "# Input list\n",
    "my_list = [1, 2, 3, 4, 5]\n",
    "\n",
    "# Convert list to numpy array\n",
    "num_array = np.array(my_list)\n",
    "\n",
    "# Display the array\n",
    "print(\"Number Array:\", num_array)\n",
    "\n",
    "# Display the first and last index\n",
    "print(\"First Index:\", num_array[0])\n",
    "print(\"Last Index:\", num_array[-1])\n",
    "\n",
    "# Multiply each element by 2\n",
    "multiplied_array = num_array * 2\n",
    "\n",
    "# Display the result\n",
    "print(\"Array After Multiplication:\", multiplied_array)"
   ]
  },
  {
   "cell_type": "code",
   "execution_count": null,
   "id": "48796d1d-769d-4ce9-b13e-82608f3627ce",
   "metadata": {},
   "outputs": [],
   "source": []
  }
 ],
 "metadata": {
  "kernelspec": {
   "display_name": "Python 3 (ipykernel)",
   "language": "python",
   "name": "python3"
  },
  "language_info": {
   "codemirror_mode": {
    "name": "ipython",
    "version": 3
   },
   "file_extension": ".py",
   "mimetype": "text/x-python",
   "name": "python",
   "nbconvert_exporter": "python",
   "pygments_lexer": "ipython3",
   "version": "3.12.4"
  }
 },
 "nbformat": 4,
 "nbformat_minor": 5
}
